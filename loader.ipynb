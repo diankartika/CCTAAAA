{
 "cells": [
  {
   "cell_type": "code",
   "execution_count": 1,
   "id": "fcd08566",
   "metadata": {},
   "outputs": [
    {
     "name": "stderr",
     "output_type": "stream",
     "text": [
      "/Users/diankartikaputri/Documents/CCTAAAA/.venv/lib/python3.13/site-packages/tqdm/auto.py:21: TqdmWarning: IProgress not found. Please update jupyter and ipywidgets. See https://ipywidgets.readthedocs.io/en/stable/user_install.html\n",
      "  from .autonotebook import tqdm as notebook_tqdm\n"
     ]
    }
   ],
   "source": [
    "from huggingface_hub import hf_hub_download\n",
    "import nibabel as nib\n",
    "\n",
    "def load_case(index: int, repo_id=\"MedHK23/CCA\"):\n",
    "    img_path = hf_hub_download(repo_id=repo_id, filename=f\"train/images/{index}.nii.gz\", repo_type=\"dataset\")\n",
    "    mask_path = hf_hub_download(repo_id=repo_id, filename=f\"train/labels/{index}.nii.gz\", repo_type=\"dataset\")\n",
    "    img = nib.load(img_path).get_fdata()\n",
    "    mask = nib.load(mask_path).get_fdata()\n",
    "    return img, mask"
   ]
  }
 ],
 "metadata": {
  "kernelspec": {
   "display_name": ".venv",
   "language": "python",
   "name": "python3"
  },
  "language_info": {
   "codemirror_mode": {
    "name": "ipython",
    "version": 3
   },
   "file_extension": ".py",
   "mimetype": "text/x-python",
   "name": "python",
   "nbconvert_exporter": "python",
   "pygments_lexer": "ipython3",
   "version": "3.13.1"
  }
 },
 "nbformat": 4,
 "nbformat_minor": 5
}
